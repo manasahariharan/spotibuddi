{
 "cells": [
  {
   "cell_type": "code",
   "execution_count": 217,
   "metadata": {},
   "outputs": [],
   "source": [
    "%matplotlib inline\n",
    "import sys\n",
    "import spotipy\n",
    "import spotipy.util as util\n",
    "import pandas as pd\n",
    "import matplotlib.pyplot as plt\n",
    "import numpy as np\n",
    "import seaborn as sns\n",
    "import sklearn\n",
    "from spotipy.oauth2 import SpotifyClientCredentials"
   ]
  },
  {
   "cell_type": "code",
   "execution_count": 187,
   "metadata": {
    "collapsed": true
   },
   "outputs": [],
   "source": [
    "client_credentials_manager = SpotifyClientCredentials('40cd9cd27c7c4689bc36774f5aac188b','10d3a4b01aea4976ac89c831db901a6d')\n",
    "sp = spotipy.Spotify(client_credentials_manager=client_credentials_manager)"
   ]
  },
  {
   "cell_type": "code",
   "execution_count": 188,
   "metadata": {
    "collapsed": true
   },
   "outputs": [],
   "source": [
    "def show_tracks(results):\n",
    "    for i, item in enumerate(results['items']):\n",
    "        track = item['track']\n",
    "        print(\"   %d %32.32s %s\" % (i, track['artists'][0]['name'], track['name']))"
   ]
  },
  {
   "cell_type": "code",
   "execution_count": 189,
   "metadata": {
    "collapsed": true
   },
   "outputs": [],
   "source": [
    "def trackdeets(username, playid):\n",
    "    playlist1 = sp.user_playlist(username,playid)\n",
    "    tracks=playlist1['tracks']\n",
    "    playtracs={}\n",
    "    for i, item in enumerate(tracks['items']):\n",
    "        track = item['track']\n",
    "        playtracs[track['id']]=track['name']\n",
    "        while tracks['next']:\n",
    "            tracks = sp.next(tracks)\n",
    "            for i, item in enumerate(tracks['items']):\n",
    "                track = item['track']\n",
    "                playtracs[track['id']]=track['name']\n",
    "\n",
    "    return playtracs"
   ]
  },
  {
   "cell_type": "code",
   "execution_count": 190,
   "metadata": {
    "collapsed": true
   },
   "outputs": [],
   "source": [
    "def sametraclist(playlist1,playlist2):\n",
    "    sametracs = playlist1.items() & playlist2.items()\n",
    "    sametracs = dict(sametracs)\n",
    "    playlist1 = dict(playlist1.items() - sametracs.items())\n",
    "    playlist2 = dict(playlist2.items() - sametracs.items())\n",
    "    playlist1 = {k:v.split(\"-\")[0] for (k,v) in  playlist1.items()}\n",
    "    playlist2 = {k:v.split(\"-\")[0] for (k,v) in  playlist2.items()}\n",
    "    sametracs1 ={k: v for (k,v) in playlist1.items() if v in list(playlist2.values()) }\n",
    "    sametracs.update(sametracs1)\n",
    "    return sametracs "
   ]
  },
  {
   "cell_type": "code",
   "execution_count": 191,
   "metadata": {
    "collapsed": true
   },
   "outputs": [],
   "source": [
    "def artistdeets(username, playid):\n",
    "    playlist1 = sp.user_playlist(username,playid)\n",
    "    tracks=playlist1['tracks']\n",
    "    playtracs={}\n",
    "    for i, item in enumerate(tracks['items']):\n",
    "        track = item['track']\n",
    "        if track['artists'][0]['id'] in playtracs:\n",
    "            playtracs[track['artists'][0]['id']].append(track['id'])\n",
    "        else:\n",
    "            playtracs[track['artists'][0]['id']]=[track['id']]\n",
    "        while tracks['next']:\n",
    "\n",
    "            tracks = sp.next(tracks)\n",
    "            for i, item in enumerate(tracks['items']):\n",
    "                track = item['track']\n",
    "                if track['artists'][0]['id'] in playtracs:\n",
    "                    playtracs[track['artists'][0]['id']].append(track['id'])\n",
    "                else:\n",
    "                    playtracs[track['artists'][0]['id']]=[track['id']]\n",
    "\n",
    "    return playtracs"
   ]
  },
  {
   "cell_type": "code",
   "execution_count": 192,
   "metadata": {
    "collapsed": true
   },
   "outputs": [],
   "source": [
    "def sameartists(playlist1,playlist2):\n",
    "    artistlist = [play1artists.keys() & play2artists.keys()]\n",
    "    sameartists = {}\n",
    "    for k in artistlist[0]:\n",
    "        sameartists[k] = [play1artists[k],play2artists[k]]\n",
    "        \n",
    "    return sameartists"
   ]
  },
  {
   "cell_type": "code",
   "execution_count": 193,
   "metadata": {
    "collapsed": true
   },
   "outputs": [],
   "source": [
    "def audiofeats(playlist):\n",
    "    audiodeets=[]\n",
    "    trackids = list(playlist.keys())\n",
    "    if len(trackids) <= 50:\n",
    "        audiodeets = sp.audio_features(trackids)\n",
    "    else:  \n",
    "        for i in range(0,(int(len(trackids)/50)+1)):\n",
    "            audiodeets.extend(sp.audio_features(trackids[i*50:(i+1)*50]))\n",
    "    audiodeets = list(filter(None,audiodeets)) \n",
    "    audiodeets=pd.DataFrame(audiodeets)\n",
    "    audiodeets.index = audiodeets['id']\n",
    "    audiodeets = audiodeets.drop(['analysis_url','track_href','type','uri','id'],axis=1)\n",
    "    return audiodeets"
   ]
  },
  {
   "cell_type": "code",
   "execution_count": 194,
   "metadata": {},
   "outputs": [],
   "source": [
    "play1tracs=trackdeets('hmanasa95','490oPD2OlU69R7bM4SyGHz')\n",
    "play2tracs=trackdeets('spotify','37i9dQZF1DWTJ7xPn4vNaz')\n",
    "play3tracs=trackdeets('spotify','37i9dQZF1DX0XUsuxWHRQd')\n",
    "play4tracs=trackdeets('spotify','37i9dQZF1DWWGFQLoP9qlv')\n"
   ]
  },
  {
   "cell_type": "code",
   "execution_count": 195,
   "metadata": {
    "collapsed": true
   },
   "outputs": [],
   "source": [
    "play1artists=artistdeets('hmanasa95', '490oPD2OlU69R7bM4SyGHz')\n",
    "play2artists=artistdeets('spotify','37i9dQZF1DWTJ7xPn4vNaz')"
   ]
  },
  {
   "cell_type": "code",
   "execution_count": 233,
   "metadata": {},
   "outputs": [
    {
     "data": {
      "text/plain": [
       "50"
      ]
     },
     "execution_count": 233,
     "metadata": {},
     "output_type": "execute_result"
    }
   ],
   "source": [
    "len(play3tracs)"
   ]
  },
  {
   "cell_type": "code",
   "execution_count": 270,
   "metadata": {},
   "outputs": [],
   "source": [
    "audio2deets = audiofeats(play2tracs)\n",
    "audio3deets = audiofeats(play3tracs)\n",
    "audio4deets = audiofeats(play4tracs)\n",
    "audio3deets['playno'] = 1\n",
    "audio4deets['playno'] = 2\n",
    "playnames = list(play2tracs.values())\n",
    "playnames.extend(list(play4tracs.values()))\n",
    "temp = pd.concat([audio2deets,audio4deets])"
   ]
  },
  {
   "cell_type": "code",
   "execution_count": 277,
   "metadata": {},
   "outputs": [
    {
     "data": {
      "text/plain": [
       "190"
      ]
     },
     "execution_count": 277,
     "metadata": {},
     "output_type": "execute_result"
    }
   ],
   "source": [
    "len(playnames)"
   ]
  },
  {
   "cell_type": "code",
   "execution_count": 279,
   "metadata": {},
   "outputs": [
    {
     "data": {
      "text/plain": [
       "<matplotlib.collections.PathCollection at 0x25aae892048>"
      ]
     },
     "execution_count": 279,
     "metadata": {},
     "output_type": "execute_result"
    },
    {
     "data": {
      "image/png": "[encoded data removed]",
      "text/plain": [
       "<matplotlib.figure.Figure at 0x25aae608dd8>"
      ]
     },
     "metadata": {},
     "output_type": "display_data"
    }
   ],
   "source": [
    "from sklearn.preprocessing import StandardScaler\n",
    "from sklearn import decomposition\n",
    "x = StandardScaler().fit_transform(temp[['acousticness', 'danceability','energy','liveness','mode','speechiness','valence']])\n",
    "pca = decomposition.PCA(n_components=3)\n",
    "songpca = pca.fit_transform(x)\n",
    "plt.scatter(songpca[0:89, 0], songpca[0:89, 1], color='turquoise', alpha=.8, lw=lw)\n",
    "plt.scatter(songpca[90:189, 0], songpca[90:189, 1], color='orange', alpha=.8, lw=lw)\n"
   ]
  },
  {
   "cell_type": "code",
   "execution_count": 272,
   "metadata": {},
   "outputs": [],
   "source": [
    "import plotly.plotly as py\n",
    "import plotly.tools as tls\n",
    "import plotly.graph_objs as go"
   ]
  },
  {
   "cell_type": "code",
   "execution_count": 280,
   "metadata": {},
   "outputs": [
    {
     "data": {
      "text/html": [
       "<iframe id=\"igraph\" scrolling=\"no\" style=\"border:none;\" seamless=\"seamless\" src=\"https://plot.ly/~manasah/8.embed\" height=\"525px\" width=\"100%\"></iframe>"
      ],
      "text/plain": [
       "<plotly.tools.PlotlyDisplay object>"
      ]
     },
     "execution_count": 280,
     "metadata": {},
     "output_type": "execute_result"
    }
   ],
   "source": [
    "trace1 = go.Scatter3d(\n",
    "    x=songpca[0:89, 0],\n",
    "    y=songpca[0:89, 1],\n",
    "    z=songpca[0:89, 2],\n",
    "    mode='markers',\n",
    "    text = playnames[0:89],\n",
    "    hoverinfo = 'text',\n",
    "    name = \"playlist1\",\n",
    "    marker=dict(\n",
    "        size=7,\n",
    "        color = 'red',\n",
    "        opacity=0.8\n",
    "    )\n",
    ")\n",
    "trace2 = go.Scatter3d(\n",
    "    x=songpca[90:189, 0],\n",
    "    y=songpca[90:189, 1],\n",
    "    z=songpca[90:189, 2],\n",
    "    name = \"playlist2\",\n",
    "    text = playnames[90:189],\n",
    "    hoverinfo = 'text',\n",
    "    mode='markers',\n",
    "    marker=dict(\n",
    "        size=7,\n",
    "        color = 'blue',\n",
    "        opacity=0.8\n",
    "    )\n",
    ")\n",
    "data = [trace1, trace2]\n",
    "layout = go.Layout(\n",
    ")\n",
    "fig = go.Figure(data=data, layout=layout)\n",
    "py.iplot(fig, filename='simple-3d-scatter')"
   ]
  },
  {
   "cell_type": "code",
   "execution_count": 274,
   "metadata": {},
   "outputs": [
    {
     "data": {
      "text/html": [
       "<iframe id=\"igraph\" scrolling=\"no\" style=\"border:none;\" seamless=\"seamless\" src=\"https://plot.ly/~manasah/8.embed\" height=\"525px\" width=\"100%\"></iframe>"
      ],
      "text/plain": [
       "<plotly.tools.PlotlyDisplay object>"
      ]
     },
     "execution_count": 274,
     "metadata": {},
     "output_type": "execute_result"
    }
   ],
   "source": [
    "trace1 = go.Scatter3d(\n",
    "    x=x[0:49, 0],\n",
    "    y=x[0:49, 1],\n",
    "    z=x[0:49, 2],\n",
    "    mode='markers',\n",
    "    text = playnames[0:49],\n",
    "    hoverinfo = 'text',\n",
    "    name = \"playlist1\",\n",
    "    marker=dict(\n",
    "        size=7,\n",
    "        color = 'red',\n",
    "        opacity=0.8\n",
    "    )\n",
    ")\n",
    "trace2 = go.Scatter3d(\n",
    "    x=x[50:149, 0],\n",
    "    y=x[50:149, 1],\n",
    "    z=x[50:149, 2],\n",
    "    name = \"playlist2\",\n",
    "    text = playnames[50:149],\n",
    "    hoverinfo = 'text',\n",
    "    mode='markers',\n",
    "    marker=dict(\n",
    "        size=7,\n",
    "        color = 'blue',\n",
    "        opacity=0.8\n",
    "    )\n",
    ")\n",
    "data = [trace1, trace2]\n",
    "layout = go.Layout(\n",
    ")\n",
    "fig = go.Figure(data=data, layout=layout)\n",
    "py.iplot(fig, filename='simple-3d-scatter')"
   ]
  },
  {
   "cell_type": "code",
   "execution_count": 243,
   "metadata": {
    "collapsed": true
   },
   "outputs": [],
   "source": [
    "plotly.tools.set_credentials_file(username='manasah', api_key='lwaibUKBBBO66a45N6VY')"
   ]
  },
  {
   "cell_type": "code",
   "execution_count": null,
   "metadata": {
    "collapsed": true
   },
   "outputs": [],
   "source": [
    "lwaibUKBBBO66a45N6VY"
   ]
  }
 ],
 "metadata": {
  "kernelspec": {
   "display_name": "Python 3",
   "language": "python",
   "name": "python3"
  },
  "language_info": {
   "codemirror_mode": {
    "name": "ipython",
    "version": 3
   },
   "file_extension": ".py",
   "mimetype": "text/x-python",
   "name": "python",
   "nbconvert_exporter": "python",
   "pygments_lexer": "ipython3",
   "version": "3.6.3"
  }
 },
 "nbformat": 4,
 "nbformat_minor": 2
}
